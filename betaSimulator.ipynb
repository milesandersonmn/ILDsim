{
 "cells": [
  {
   "cell_type": "code",
   "execution_count": 227,
   "metadata": {},
   "outputs": [],
   "source": [
    "import msprime\n",
    "import numpy as np\n",
    "import matplotlib.pyplot as plt\n",
    "import math\n",
    "import tskit"
   ]
  },
  {
   "cell_type": "code",
   "execution_count": 228,
   "metadata": {},
   "outputs": [],
   "source": [
    "r_chrom = 1e-8 #Recombination rate\n",
    "r_break = math.log(2) #Recombination rate needed to satisfy probability 2^-t inheritance of two chromsomes\n",
    "chrom_positions = [0, 1e6, 2e6, 3e6] #1Mb chromosome sizes\n",
    "map_positions = [\n",
    "    chrom_positions[0],\n",
    "    chrom_positions[1],\n",
    "    chrom_positions[1] + 1,\n",
    "    chrom_positions[2],\n",
    "    chrom_positions[2] + 1,\n",
    "    chrom_positions[3]\n",
    "]\n",
    "rates = [r_chrom, r_break, r_chrom, r_break, r_chrom] \n",
    "rate_map = msprime.RateMap(position=map_positions, rate=rates) #Rate map for separate chromosomes"
   ]
  },
  {
   "cell_type": "code",
   "execution_count": 229,
   "metadata": {},
   "outputs": [
    {
     "data": {
      "text/html": [
       "\n",
       "            <div>\n",
       "              <style>\n",
       "                .tskit-table thead tr th {text-align: left;padding: 0.5em 0.5em;}\n",
       "                .tskit-table tbody tr td {padding: 0.5em 0.5em;}\n",
       "                .tskit-table tbody tr td:first-of-type {text-align: left;}\n",
       "                .tskit-details-label {vertical-align: top; padding-right:5px;}\n",
       "                .tskit-table-set {display: inline-flex;flex-wrap: wrap;margin: -12px 0 0 -12px;width: calc(100% + 12px);}\n",
       "                .tskit-table-set-table {margin: 12px 0 0 12px;}\n",
       "                details {display: inline-block;}\n",
       "                summary {cursor: pointer; outline: 0; display: list-item;}\n",
       "              </style>\n",
       "              <div class=\"tskit-table-set\">\n",
       "                <div class=\"tskit-table-set-table\">\n",
       "                  <table class=\"tskit-table\">\n",
       "                    <thead>\n",
       "                      <tr>\n",
       "                        <th style=\"padding:0;line-height:21px;\">\n",
       "                          <img style=\"height: 32px;display: inline-block;padding: 3px 5px 3px 0;\" src=\"https://raw.githubusercontent.com/tskit-dev/administrative/main/tskit_logo.svg\"/>\n",
       "                          <a target=\"_blank\" href=\"https://tskit.dev/tskit/docs/latest/python-api.html#the-treesequence-class\"> Tree Sequence </a>\n",
       "                        </th>\n",
       "                      </tr>\n",
       "                    </thead>\n",
       "                    <tbody>\n",
       "                      <tr><td>Trees</td><td>441</td></tr>\n",
       "                      <tr><td>Sequence Length</td><td>3000000.0</td></tr>\n",
       "                      <tr><td>Time Units</td><td>generations</td></tr>\n",
       "                      <tr><td>Sample Nodes</td><td>76</td></tr>\n",
       "                      <tr><td>Total Size</td><td>82.1 KiB</td></tr>\n",
       "                      <tr>\n",
       "                        <td>Metadata</td><td style=\"text-align: left;\">No Metadata</td></tr>\n",
       "                    </tbody>\n",
       "                  </table>\n",
       "                </div>\n",
       "                <div class=\"tskit-table-set-table\">\n",
       "                  <table class=\"tskit-table\">\n",
       "                    <thead>\n",
       "                      <tr>\n",
       "                        <th style=\"line-height:21px;\">Table</th>\n",
       "                        <th>Rows</th>\n",
       "                        <th>Size</th>\n",
       "                        <th>Has Metadata</th>\n",
       "                      </tr>\n",
       "                    </thead>\n",
       "                    <tbody>\n",
       "                    \n",
       "                  <tr>\n",
       "                    <td>Edges</td>\n",
       "                      <td>1721</td>\n",
       "                      <td>53.8 KiB</td>\n",
       "                      <td style=\"text-align: center;\">\n",
       "                        \n",
       "                      </td>\n",
       "                    </tr>\n",
       "                \n",
       "                  <tr>\n",
       "                    <td>Individuals</td>\n",
       "                      <td>38</td>\n",
       "                      <td>1.1 KiB</td>\n",
       "                      <td style=\"text-align: center;\">\n",
       "                        \n",
       "                      </td>\n",
       "                    </tr>\n",
       "                \n",
       "                  <tr>\n",
       "                    <td>Migrations</td>\n",
       "                      <td>0</td>\n",
       "                      <td>8 Bytes</td>\n",
       "                      <td style=\"text-align: center;\">\n",
       "                        \n",
       "                      </td>\n",
       "                    </tr>\n",
       "                \n",
       "                  <tr>\n",
       "                    <td>Mutations</td>\n",
       "                      <td>0</td>\n",
       "                      <td>16 Bytes</td>\n",
       "                      <td style=\"text-align: center;\">\n",
       "                        \n",
       "                      </td>\n",
       "                    </tr>\n",
       "                \n",
       "                  <tr>\n",
       "                    <td>Nodes</td>\n",
       "                      <td>446</td>\n",
       "                      <td>12.2 KiB</td>\n",
       "                      <td style=\"text-align: center;\">\n",
       "                        \n",
       "                      </td>\n",
       "                    </tr>\n",
       "                \n",
       "                  <tr>\n",
       "                    <td>Populations</td>\n",
       "                      <td>1</td>\n",
       "                      <td>224 Bytes</td>\n",
       "                      <td style=\"text-align: center;\">\n",
       "                        ✅\n",
       "                      </td>\n",
       "                    </tr>\n",
       "                \n",
       "                  <tr>\n",
       "                    <td>Provenances</td>\n",
       "                      <td>1</td>\n",
       "                      <td>1.4 KiB</td>\n",
       "                      <td style=\"text-align: center;\">\n",
       "                        \n",
       "                      </td>\n",
       "                    </tr>\n",
       "                \n",
       "                  <tr>\n",
       "                    <td>Sites</td>\n",
       "                      <td>0</td>\n",
       "                      <td>16 Bytes</td>\n",
       "                      <td style=\"text-align: center;\">\n",
       "                        \n",
       "                      </td>\n",
       "                    </tr>\n",
       "                \n",
       "                    </tbody>\n",
       "                  </table>\n",
       "                </div>\n",
       "              </div>\n",
       "            </div>\n",
       "            "
      ],
      "text/plain": [
       "<tskit.trees.TreeSequence at 0x7ff0ef336540>"
      ]
     },
     "execution_count": 229,
     "metadata": {},
     "output_type": "execute_result"
    }
   ],
   "source": [
    "alpha = np.random.uniform(low=1.05, high=2) #Draw alpha parameter from uniform distribution\n",
    "Ne = np.random.uniform(low=1000, high=1000000)\n",
    "ts = msprime.sim_ancestry(\n",
    "    samples=38,\n",
    "    population_size=10000,\n",
    "    recombination_rate=rate_map,\n",
    "    model=msprime.BetaCoalescent(alpha=alpha),\n",
    "    random_seed=1234,\n",
    ")\n",
    "ts"
   ]
  },
  {
   "cell_type": "code",
   "execution_count": 230,
   "metadata": {},
   "outputs": [],
   "source": [
    "mts = msprime.sim_mutations(ts, rate=1e-8, random_seed=5678)\n"
   ]
  },
  {
   "cell_type": "code",
   "execution_count": 231,
   "metadata": {},
   "outputs": [
    {
     "data": {
      "text/plain": [
       "[1,\n",
       " 10000,\n",
       " 1.5415580470729733,\n",
       " 1,\n",
       " 541,\n",
       " 0.00018033333333333334,\n",
       " 3.53452631578948e-05]"
      ]
     },
     "execution_count": 231,
     "metadata": {},
     "output_type": "execute_result"
    }
   ],
   "source": [
    "np.set_printoptions(legacy=\"1.21\")\n",
    "summary_statistics = [] #Initialize list of summary statistics\n",
    "summary_statistics.append(1) #First column corresponds to model index\n",
    "summary_statistics.append(10000) #Second column is Ne\n",
    "summary_statistics.append(alpha) #Third column is alpha parameter\n",
    "summary_statistics.append(1) #Fourth column is rho/theta\n",
    "S = mts.get_num_mutations()\n",
    "summary_statistics.append(S) #Fifth column is number of segregating sites\n",
    "normalized_S = mts.segregating_sites(span_normalise=True)\n",
    "summary_statistics.append(normalized_S) #Sixth column is span normalized S\n",
    "pi = mts.diversity()\n",
    "summary_statistics.append(pi) #Seventh column is nucleotide diversity\n",
    "summary_statistics"
   ]
  },
  {
   "cell_type": "code",
   "execution_count": 232,
   "metadata": {},
   "outputs": [],
   "source": [
    "afs = mts.allele_frequency_spectrum(span_normalise=False, polarised=False)\n",
    "\n",
    "afs_entries = []\n",
    "\n",
    "for x in range(1, 40):\n",
    "   num_mutations = afs[x]\n",
    "   l = [x/76] * int(num_mutations)\n",
    "   afs_entries.extend(l)\n",
    "afs_entries = np.array(afs_entries)"
   ]
  },
  {
   "cell_type": "code",
   "execution_count": 233,
   "metadata": {},
   "outputs": [
    {
     "data": {
      "text/plain": [
       "[1,\n",
       " 10000,\n",
       " 1.5415580470729733,\n",
       " 1,\n",
       " 541,\n",
       " 0.00018033333333333334,\n",
       " 3.53452631578948e-05,\n",
       " 0.013157894736842105,\n",
       " 0.013157894736842105,\n",
       " 0.05263157894736842,\n",
       " 0.23684210526315788,\n",
       " 0.42105263157894735]"
      ]
     },
     "execution_count": 233,
     "metadata": {},
     "output_type": "execute_result"
    }
   ],
   "source": [
    "afs_quant = np.quantile(afs_entries, [0.1, 0.3, 0.5, 0.7, 0.9])\n",
    "summary_statistics.append(afs_quant[0]) #8th column is AFS quantile 0.1\n",
    "summary_statistics.append(afs_quant[1]) #9th column 0.3\n",
    "summary_statistics.append(afs_quant[2]) #10th column 0.5\n",
    "summary_statistics.append(afs_quant[3]) #11th column 0.7\n",
    "summary_statistics.append(afs_quant[4]) #12th column 0.9\n",
    "summary_statistics"
   ]
  },
  {
   "cell_type": "code",
   "execution_count": 234,
   "metadata": {},
   "outputs": [
    {
     "data": {
      "text/plain": [
       "[1,\n",
       " 10000,\n",
       " 1.5415580470729733,\n",
       " 1,\n",
       " 541,\n",
       " 0.00018033333333333334,\n",
       " 3.53452631578948e-05,\n",
       " 0.013157894736842105,\n",
       " 0.013157894736842105,\n",
       " 0.05263157894736842,\n",
       " 0.23684210526315788,\n",
       " 0.42105263157894735,\n",
       " -0.232664556512257,\n",
       " 0.9453953441589941]"
      ]
     },
     "execution_count": 234,
     "metadata": {},
     "output_type": "execute_result"
    }
   ],
   "source": [
    "num_windows = 30\n",
    "D_array = mts.Tajimas_D(windows=np.linspace(0, ts.sequence_length, num_windows + 1))\n",
    "summary_statistics.append(np.nanmean(D_array))\n",
    "summary_statistics.append(np.nanvar(D_array))\n",
    "summary_statistics"
   ]
  },
  {
   "cell_type": "code",
   "execution_count": 235,
   "metadata": {},
   "outputs": [
    {
     "name": "stdout",
     "output_type": "stream",
     "text": [
      "1000000.0\n",
      "1000000.0\n",
      "1000000.0\n"
     ]
    }
   ],
   "source": [
    "ts_chroms = []\n",
    "for j in range(len(chrom_positions) - 1):\n",
    "    start, end = chrom_positions[j: j + 2]\n",
    "    chrom_ts = mts.keep_intervals([[start, end]], simplify=False).trim()\n",
    "    ts_chroms.append(chrom_ts)\n",
    "    print(chrom_ts.sequence_length)"
   ]
  },
  {
   "cell_type": "code",
   "execution_count": 236,
   "metadata": {},
   "outputs": [
    {
     "data": {
      "text/plain": [
       "array([0.00017778, 0.0011107 , 0.00610288, 0.01984127, 0.10800422])"
      ]
     },
     "execution_count": 236,
     "metadata": {},
     "output_type": "execute_result"
    }
   ],
   "source": [
    "\n",
    "ld_calc = tskit.LdCalculator(ts_chroms[0])\n",
    "r2_chrom1 = ld_calc.r2_matrix()\n",
    "r2_chrom1 = np.matrix.flatten(r2_chrom1)\n",
    "ld_calc = tskit.LdCalculator(ts_chroms[1])\n",
    "r2_chrom2 = ld_calc.r2_matrix()\n",
    "r2_chrom2 = np.matrix.flatten(r2_chrom2)\n",
    "ld_calc = tskit.LdCalculator(ts_chroms[2])\n",
    "r2_chrom3 = ld_calc.r2_matrix()\n",
    "r2_chrom3 = np.matrix.flatten(r2_chrom3)\n",
    "r2 = np.concatenate((r2_chrom1,r2_chrom2,r2_chrom3))\n",
    "r2_quant = np.quantile(r2, [0.1,0.3,0.5,0.7,0.9])\n",
    "r2_quant"
   ]
  },
  {
   "cell_type": "code",
   "execution_count": 237,
   "metadata": {},
   "outputs": [
    {
     "data": {
      "text/plain": [
       "[1,\n",
       " 10000,\n",
       " 1.5415580470729733,\n",
       " 1,\n",
       " 541,\n",
       " 0.00018033333333333334,\n",
       " 3.53452631578948e-05,\n",
       " 0.013157894736842105,\n",
       " 0.013157894736842105,\n",
       " 0.05263157894736842,\n",
       " 0.23684210526315788,\n",
       " 0.42105263157894735,\n",
       " -0.232664556512257,\n",
       " 0.9453953441589941,\n",
       " 0.00017777777777777776,\n",
       " 0.001110699740836727,\n",
       " 0.006102877070619003,\n",
       " 0.019841269841269844,\n",
       " 0.10800421891480139,\n",
       " 0.05800093841039487,\n",
       " 0.02895123030101222]"
      ]
     },
     "execution_count": 237,
     "metadata": {},
     "output_type": "execute_result"
    }
   ],
   "source": [
    "summary_statistics.append(r2_quant[0])\n",
    "summary_statistics.append(r2_quant[1])\n",
    "summary_statistics.append(r2_quant[2])\n",
    "summary_statistics.append(r2_quant[3])\n",
    "summary_statistics.append(r2_quant[4])\n",
    "summary_statistics.append(np.mean(r2))\n",
    "summary_statistics.append(np.var(r2))\n",
    "summary_statistics"
   ]
  },
  {
   "cell_type": "code",
   "execution_count": 238,
   "metadata": {},
   "outputs": [],
   "source": [
    "for x in range(3):\n",
    "    with open(\"output\"+str(x+1)+\".vcf\", \"w\") as vcf_file:\n",
    "        ts_chroms[x].write_vcf(vcf_file, contig_id=str(x+1))"
   ]
  },
  {
   "cell_type": "code",
   "execution_count": 239,
   "metadata": {},
   "outputs": [
    {
     "data": {
      "text/plain": [
       "'/home/milesanderson/PhD/ILDsim'"
      ]
     },
     "execution_count": 239,
     "metadata": {},
     "output_type": "execute_result"
    }
   ],
   "source": [
    "import subprocess\n",
    "import os\n",
    "os.getcwd()"
   ]
  },
  {
   "cell_type": "code",
   "execution_count": 240,
   "metadata": {},
   "outputs": [
    {
     "ename": "FileNotFoundError",
     "evalue": "[Errno 2] No such file or directory: 'bcftools'",
     "output_type": "error",
     "traceback": [
      "\u001b[0;31m---------------------------------------------------------------------------\u001b[0m",
      "\u001b[0;31mFileNotFoundError\u001b[0m                         Traceback (most recent call last)",
      "Cell \u001b[0;32mIn[240], line 3\u001b[0m\n\u001b[1;32m      1\u001b[0m commands \u001b[38;5;241m=\u001b[39m [\u001b[38;5;124m\"\u001b[39m\u001b[38;5;124mbcftools concatoutput1.vcf output2.vcf output3.vcf -o concat.vcf\u001b[39m\u001b[38;5;124m\"\u001b[39m]\n\u001b[0;32m----> 3\u001b[0m subprocess\u001b[38;5;241m.\u001b[39mrun([\u001b[38;5;124m\"\u001b[39m\u001b[38;5;124mbcftools\u001b[39m\u001b[38;5;124m\"\u001b[39m, \u001b[38;5;124m\"\u001b[39m\u001b[38;5;124mconcat\u001b[39m\u001b[38;5;124m\"\u001b[39m, \u001b[38;5;124m\"\u001b[39m\u001b[38;5;124moutput1.vcf\u001b[39m\u001b[38;5;124m\"\u001b[39m, \u001b[38;5;124m\"\u001b[39m\u001b[38;5;124moutput2.vcf\u001b[39m\u001b[38;5;124m\"\u001b[39m, \u001b[38;5;124m\"\u001b[39m\u001b[38;5;124moutput3.vcf\u001b[39m\u001b[38;5;124m\"\u001b[39m, \u001b[38;5;124m\"\u001b[39m\u001b[38;5;124m-o\u001b[39m\u001b[38;5;124m\"\u001b[39m, \u001b[38;5;124m\"\u001b[39m\u001b[38;5;124mconcat.vcf\u001b[39m\u001b[38;5;124m\"\u001b[39m])\n",
      "File \u001b[0;32m~/miniconda3/envs/msprime/lib/python3.12/subprocess.py:548\u001b[0m, in \u001b[0;36mrun\u001b[0;34m(input, capture_output, timeout, check, *popenargs, **kwargs)\u001b[0m\n\u001b[1;32m    545\u001b[0m     kwargs[\u001b[38;5;124m'\u001b[39m\u001b[38;5;124mstdout\u001b[39m\u001b[38;5;124m'\u001b[39m] \u001b[38;5;241m=\u001b[39m PIPE\n\u001b[1;32m    546\u001b[0m     kwargs[\u001b[38;5;124m'\u001b[39m\u001b[38;5;124mstderr\u001b[39m\u001b[38;5;124m'\u001b[39m] \u001b[38;5;241m=\u001b[39m PIPE\n\u001b[0;32m--> 548\u001b[0m \u001b[38;5;28;01mwith\u001b[39;00m Popen(\u001b[38;5;241m*\u001b[39mpopenargs, \u001b[38;5;241m*\u001b[39m\u001b[38;5;241m*\u001b[39mkwargs) \u001b[38;5;28;01mas\u001b[39;00m process:\n\u001b[1;32m    549\u001b[0m     \u001b[38;5;28;01mtry\u001b[39;00m:\n\u001b[1;32m    550\u001b[0m         stdout, stderr \u001b[38;5;241m=\u001b[39m process\u001b[38;5;241m.\u001b[39mcommunicate(\u001b[38;5;28minput\u001b[39m, timeout\u001b[38;5;241m=\u001b[39mtimeout)\n",
      "File \u001b[0;32m~/miniconda3/envs/msprime/lib/python3.12/subprocess.py:1026\u001b[0m, in \u001b[0;36mPopen.__init__\u001b[0;34m(self, args, bufsize, executable, stdin, stdout, stderr, preexec_fn, close_fds, shell, cwd, env, universal_newlines, startupinfo, creationflags, restore_signals, start_new_session, pass_fds, user, group, extra_groups, encoding, errors, text, umask, pipesize, process_group)\u001b[0m\n\u001b[1;32m   1022\u001b[0m         \u001b[38;5;28;01mif\u001b[39;00m \u001b[38;5;28mself\u001b[39m\u001b[38;5;241m.\u001b[39mtext_mode:\n\u001b[1;32m   1023\u001b[0m             \u001b[38;5;28mself\u001b[39m\u001b[38;5;241m.\u001b[39mstderr \u001b[38;5;241m=\u001b[39m io\u001b[38;5;241m.\u001b[39mTextIOWrapper(\u001b[38;5;28mself\u001b[39m\u001b[38;5;241m.\u001b[39mstderr,\n\u001b[1;32m   1024\u001b[0m                     encoding\u001b[38;5;241m=\u001b[39mencoding, errors\u001b[38;5;241m=\u001b[39merrors)\n\u001b[0;32m-> 1026\u001b[0m     \u001b[38;5;28mself\u001b[39m\u001b[38;5;241m.\u001b[39m_execute_child(args, executable, preexec_fn, close_fds,\n\u001b[1;32m   1027\u001b[0m                         pass_fds, cwd, env,\n\u001b[1;32m   1028\u001b[0m                         startupinfo, creationflags, shell,\n\u001b[1;32m   1029\u001b[0m                         p2cread, p2cwrite,\n\u001b[1;32m   1030\u001b[0m                         c2pread, c2pwrite,\n\u001b[1;32m   1031\u001b[0m                         errread, errwrite,\n\u001b[1;32m   1032\u001b[0m                         restore_signals,\n\u001b[1;32m   1033\u001b[0m                         gid, gids, uid, umask,\n\u001b[1;32m   1034\u001b[0m                         start_new_session, process_group)\n\u001b[1;32m   1035\u001b[0m \u001b[38;5;28;01mexcept\u001b[39;00m:\n\u001b[1;32m   1036\u001b[0m     \u001b[38;5;66;03m# Cleanup if the child failed starting.\u001b[39;00m\n\u001b[1;32m   1037\u001b[0m     \u001b[38;5;28;01mfor\u001b[39;00m f \u001b[38;5;129;01min\u001b[39;00m \u001b[38;5;28mfilter\u001b[39m(\u001b[38;5;28;01mNone\u001b[39;00m, (\u001b[38;5;28mself\u001b[39m\u001b[38;5;241m.\u001b[39mstdin, \u001b[38;5;28mself\u001b[39m\u001b[38;5;241m.\u001b[39mstdout, \u001b[38;5;28mself\u001b[39m\u001b[38;5;241m.\u001b[39mstderr)):\n",
      "File \u001b[0;32m~/miniconda3/envs/msprime/lib/python3.12/subprocess.py:1953\u001b[0m, in \u001b[0;36mPopen._execute_child\u001b[0;34m(self, args, executable, preexec_fn, close_fds, pass_fds, cwd, env, startupinfo, creationflags, shell, p2cread, p2cwrite, c2pread, c2pwrite, errread, errwrite, restore_signals, gid, gids, uid, umask, start_new_session, process_group)\u001b[0m\n\u001b[1;32m   1951\u001b[0m     err_msg \u001b[38;5;241m=\u001b[39m os\u001b[38;5;241m.\u001b[39mstrerror(errno_num)\n\u001b[1;32m   1952\u001b[0m \u001b[38;5;28;01mif\u001b[39;00m err_filename \u001b[38;5;129;01mis\u001b[39;00m \u001b[38;5;129;01mnot\u001b[39;00m \u001b[38;5;28;01mNone\u001b[39;00m:\n\u001b[0;32m-> 1953\u001b[0m     \u001b[38;5;28;01mraise\u001b[39;00m child_exception_type(errno_num, err_msg, err_filename)\n\u001b[1;32m   1954\u001b[0m \u001b[38;5;28;01melse\u001b[39;00m:\n\u001b[1;32m   1955\u001b[0m     \u001b[38;5;28;01mraise\u001b[39;00m child_exception_type(errno_num, err_msg)\n",
      "\u001b[0;31mFileNotFoundError\u001b[0m: [Errno 2] No such file or directory: 'bcftools'"
     ]
    }
   ],
   "source": [
    "commands = [\"bcftools concatoutput1.vcf output2.vcf output3.vcf -o concat.vcf\"]\n",
    "\n",
    "subprocess.run([\"bcftools\", \"concat\", \"output1.vcf\", \"output2.vcf\", \"output3.vcf\", \"-o\", \"concat.vcf\"])"
   ]
  }
 ],
 "metadata": {
  "kernelspec": {
   "display_name": "msprime",
   "language": "python",
   "name": "python3"
  },
  "language_info": {
   "codemirror_mode": {
    "name": "ipython",
    "version": 3
   },
   "file_extension": ".py",
   "mimetype": "text/x-python",
   "name": "python",
   "nbconvert_exporter": "python",
   "pygments_lexer": "ipython3",
   "version": "3.12.2"
  }
 },
 "nbformat": 4,
 "nbformat_minor": 2
}
