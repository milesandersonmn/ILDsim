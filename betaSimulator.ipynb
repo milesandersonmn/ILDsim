{
 "cells": [
  {
   "cell_type": "code",
   "execution_count": 89,
   "metadata": {},
   "outputs": [],
   "source": [
    "import msprime\n",
    "import numpy as np\n",
    "import matplotlib.pyplot as plt\n",
    "import math\n",
    "import tskit\n",
    "import scipy"
   ]
  },
  {
   "cell_type": "code",
   "execution_count": 41,
   "metadata": {},
   "outputs": [],
   "source": [
    "r_chrom = 1e-8 #Recombination rate\n",
    "r_break = math.log(2) #Recombination rate needed to satisfy probability 2^-t inheritance of two chromsomes\n",
    "chrom_positions = [0, 1e6, 2e6, 3e6] #1Mb chromosome sizes\n",
    "map_positions = [\n",
    "    chrom_positions[0],\n",
    "    chrom_positions[1],\n",
    "    chrom_positions[1] + 1,\n",
    "    chrom_positions[2],\n",
    "    chrom_positions[2] + 1,\n",
    "    chrom_positions[3]\n",
    "]\n",
    "rates = [r_chrom, r_break, r_chrom, r_break, r_chrom] \n",
    "rate_map = msprime.RateMap(position=map_positions, rate=rates) #Rate map for separate chromosomes"
   ]
  },
  {
   "cell_type": "code",
   "execution_count": 42,
   "metadata": {},
   "outputs": [
    {
     "data": {
      "text/html": [
       "\n",
       "            <div>\n",
       "              <style>\n",
       "                .tskit-table thead tr th {text-align: left;padding: 0.5em 0.5em;}\n",
       "                .tskit-table tbody tr td {padding: 0.5em 0.5em;}\n",
       "                .tskit-table tbody tr td:first-of-type {text-align: left;}\n",
       "                .tskit-details-label {vertical-align: top; padding-right:5px;}\n",
       "                .tskit-table-set {display: inline-flex;flex-wrap: wrap;margin: -12px 0 0 -12px;width: calc(100% + 12px);}\n",
       "                .tskit-table-set-table {margin: 12px 0 0 12px;}\n",
       "                details {display: inline-block;}\n",
       "                summary {cursor: pointer; outline: 0; display: list-item;}\n",
       "              </style>\n",
       "              <div class=\"tskit-table-set\">\n",
       "                <div class=\"tskit-table-set-table\">\n",
       "                  <table class=\"tskit-table\">\n",
       "                    <thead>\n",
       "                      <tr>\n",
       "                        <th style=\"padding:0;line-height:21px;\">\n",
       "                          <img style=\"height: 32px;display: inline-block;padding: 3px 5px 3px 0;\" src=\"https://raw.githubusercontent.com/tskit-dev/administrative/main/tskit_logo.svg\"/>\n",
       "                          <a target=\"_blank\" href=\"https://tskit.dev/tskit/docs/latest/python-api.html#the-treesequence-class\"> Tree Sequence </a>\n",
       "                        </th>\n",
       "                      </tr>\n",
       "                    </thead>\n",
       "                    <tbody>\n",
       "                      <tr><td>Trees</td><td>1023</td></tr>\n",
       "                      <tr><td>Sequence Length</td><td>3000000.0</td></tr>\n",
       "                      <tr><td>Time Units</td><td>generations</td></tr>\n",
       "                      <tr><td>Sample Nodes</td><td>76</td></tr>\n",
       "                      <tr><td>Total Size</td><td>175.7 KiB</td></tr>\n",
       "                      <tr>\n",
       "                        <td>Metadata</td><td style=\"text-align: left;\">No Metadata</td></tr>\n",
       "                    </tbody>\n",
       "                  </table>\n",
       "                </div>\n",
       "                <div class=\"tskit-table-set-table\">\n",
       "                  <table class=\"tskit-table\">\n",
       "                    <thead>\n",
       "                      <tr>\n",
       "                        <th style=\"line-height:21px;\">Table</th>\n",
       "                        <th>Rows</th>\n",
       "                        <th>Size</th>\n",
       "                        <th>Has Metadata</th>\n",
       "                      </tr>\n",
       "                    </thead>\n",
       "                    <tbody>\n",
       "                    \n",
       "                  <tr>\n",
       "                    <td>Edges</td>\n",
       "                      <td>3849</td>\n",
       "                      <td>120.3 KiB</td>\n",
       "                      <td style=\"text-align: center;\">\n",
       "                        \n",
       "                      </td>\n",
       "                    </tr>\n",
       "                \n",
       "                  <tr>\n",
       "                    <td>Individuals</td>\n",
       "                      <td>38</td>\n",
       "                      <td>1.1 KiB</td>\n",
       "                      <td style=\"text-align: center;\">\n",
       "                        \n",
       "                      </td>\n",
       "                    </tr>\n",
       "                \n",
       "                  <tr>\n",
       "                    <td>Migrations</td>\n",
       "                      <td>0</td>\n",
       "                      <td>8 Bytes</td>\n",
       "                      <td style=\"text-align: center;\">\n",
       "                        \n",
       "                      </td>\n",
       "                    </tr>\n",
       "                \n",
       "                  <tr>\n",
       "                    <td>Mutations</td>\n",
       "                      <td>0</td>\n",
       "                      <td>16 Bytes</td>\n",
       "                      <td style=\"text-align: center;\">\n",
       "                        \n",
       "                      </td>\n",
       "                    </tr>\n",
       "                \n",
       "                  <tr>\n",
       "                    <td>Nodes</td>\n",
       "                      <td>829</td>\n",
       "                      <td>22.7 KiB</td>\n",
       "                      <td style=\"text-align: center;\">\n",
       "                        \n",
       "                      </td>\n",
       "                    </tr>\n",
       "                \n",
       "                  <tr>\n",
       "                    <td>Populations</td>\n",
       "                      <td>1</td>\n",
       "                      <td>224 Bytes</td>\n",
       "                      <td style=\"text-align: center;\">\n",
       "                        ✅\n",
       "                      </td>\n",
       "                    </tr>\n",
       "                \n",
       "                  <tr>\n",
       "                    <td>Provenances</td>\n",
       "                      <td>1</td>\n",
       "                      <td>1.3 KiB</td>\n",
       "                      <td style=\"text-align: center;\">\n",
       "                        \n",
       "                      </td>\n",
       "                    </tr>\n",
       "                \n",
       "                  <tr>\n",
       "                    <td>Sites</td>\n",
       "                      <td>0</td>\n",
       "                      <td>16 Bytes</td>\n",
       "                      <td style=\"text-align: center;\">\n",
       "                        \n",
       "                      </td>\n",
       "                    </tr>\n",
       "                \n",
       "                    </tbody>\n",
       "                  </table>\n",
       "                </div>\n",
       "              </div>\n",
       "            </div>\n",
       "            "
      ],
      "text/plain": [
       "<tskit.trees.TreeSequence at 0x127a5b5f0>"
      ]
     },
     "execution_count": 42,
     "metadata": {},
     "output_type": "execute_result"
    }
   ],
   "source": [
    "alpha = np.random.uniform(low=1.05, high=2) #Draw alpha parameter from uniform distribution\n",
    "Ne = np.random.uniform(low=1000, high=1000000)\n",
    "ts = msprime.sim_ancestry(\n",
    "    samples=38,\n",
    "    population_size=10000,\n",
    "    recombination_rate=rate_map,\n",
    "    model=msprime.BetaCoalescent(alpha=alpha),\n",
    "    random_seed=1234,\n",
    ")\n",
    "ts"
   ]
  },
  {
   "cell_type": "code",
   "execution_count": 43,
   "metadata": {},
   "outputs": [],
   "source": [
    "mts = msprime.sim_mutations(ts, rate=1e-8, random_seed=5678)\n"
   ]
  },
  {
   "cell_type": "code",
   "execution_count": 44,
   "metadata": {},
   "outputs": [
    {
     "data": {
      "text/plain": [
       "[1,\n",
       " 10000,\n",
       " 1.650492657229618,\n",
       " 1,\n",
       " 1196,\n",
       " 0.0003986666666666667,\n",
       " 7.610374269005781e-05]"
      ]
     },
     "execution_count": 44,
     "metadata": {},
     "output_type": "execute_result"
    }
   ],
   "source": [
    "np.set_printoptions(legacy=\"1.21\")\n",
    "summary_statistics = [] #Initialize list of summary statistics\n",
    "summary_statistics.append(1) #First column corresponds to model index\n",
    "summary_statistics.append(10000) #Second column is Ne\n",
    "summary_statistics.append(alpha) #Third column is alpha parameter\n",
    "summary_statistics.append(1) #Fourth column is rho/theta\n",
    "S = mts.get_num_mutations()\n",
    "summary_statistics.append(S) #Fifth column is number of segregating sites\n",
    "normalized_S = mts.segregating_sites(span_normalise=True)\n",
    "summary_statistics.append(normalized_S) #Sixth column is span normalized S\n",
    "pi = mts.diversity()\n",
    "summary_statistics.append(pi) #Seventh column is nucleotide diversity\n",
    "summary_statistics"
   ]
  },
  {
   "cell_type": "code",
   "execution_count": 45,
   "metadata": {},
   "outputs": [],
   "source": [
    "afs = mts.allele_frequency_spectrum(span_normalise=False, polarised=False)\n",
    "\n",
    "afs_entries = []\n",
    "\n",
    "for x in range(1, 40):\n",
    "   num_mutations = afs[x]\n",
    "   l = [x/76] * int(num_mutations)\n",
    "   afs_entries.extend(l)\n",
    "afs_entries = np.array(afs_entries)"
   ]
  },
  {
   "cell_type": "code",
   "execution_count": 46,
   "metadata": {},
   "outputs": [
    {
     "data": {
      "text/plain": [
       "[1,\n",
       " 10000,\n",
       " 1.650492657229618,\n",
       " 1,\n",
       " 1196,\n",
       " 0.0003986666666666667,\n",
       " 7.610374269005781e-05,\n",
       " 0.013157894736842105,\n",
       " 0.02631578947368421,\n",
       " 0.06578947368421052,\n",
       " 0.17105263157894737,\n",
       " 0.39473684210526316]"
      ]
     },
     "execution_count": 46,
     "metadata": {},
     "output_type": "execute_result"
    }
   ],
   "source": [
    "afs_quant = np.quantile(afs_entries, [0.1, 0.3, 0.5, 0.7, 0.9])\n",
    "summary_statistics.append(afs_quant[0]) #8th column is AFS quantile 0.1\n",
    "summary_statistics.append(afs_quant[1]) #9th column 0.3\n",
    "summary_statistics.append(afs_quant[2]) #10th column 0.5\n",
    "summary_statistics.append(afs_quant[3]) #11th column 0.7\n",
    "summary_statistics.append(afs_quant[4]) #12th column 0.9\n",
    "summary_statistics"
   ]
  },
  {
   "cell_type": "code",
   "execution_count": 47,
   "metadata": {},
   "outputs": [
    {
     "data": {
      "text/plain": [
       "[1,\n",
       " 10000,\n",
       " 1.650492657229618,\n",
       " 1,\n",
       " 1196,\n",
       " 0.0003986666666666667,\n",
       " 7.610374269005781e-05,\n",
       " 0.013157894736842105,\n",
       " 0.02631578947368421,\n",
       " 0.06578947368421052,\n",
       " 0.17105263157894737,\n",
       " 0.39473684210526316,\n",
       " -0.21649663539611996,\n",
       " 0.40273061993611586]"
      ]
     },
     "execution_count": 47,
     "metadata": {},
     "output_type": "execute_result"
    }
   ],
   "source": [
    "num_windows = 30\n",
    "D_array = mts.Tajimas_D(windows=np.linspace(0, ts.sequence_length, num_windows + 1))\n",
    "summary_statistics.append(np.nanmean(D_array))\n",
    "summary_statistics.append(np.nanvar(D_array))\n",
    "summary_statistics"
   ]
  },
  {
   "cell_type": "code",
   "execution_count": 48,
   "metadata": {},
   "outputs": [
    {
     "name": "stdout",
     "output_type": "stream",
     "text": [
      "1000000.0\n",
      "1000000.0\n",
      "1000000.0\n"
     ]
    }
   ],
   "source": [
    "ts_chroms = []\n",
    "for j in range(len(chrom_positions) - 1):\n",
    "    start, end = chrom_positions[j: j + 2]\n",
    "    chrom_ts = mts.keep_intervals([[start, end]], simplify=False).trim()\n",
    "    ts_chroms.append(chrom_ts)\n",
    "    print(chrom_ts.sequence_length)"
   ]
  },
  {
   "cell_type": "code",
   "execution_count": 49,
   "metadata": {},
   "outputs": [
    {
     "data": {
      "text/plain": [
       "array([0.00036036, 0.0015015 , 0.0054321 , 0.01647059, 0.0786138 ])"
      ]
     },
     "execution_count": 49,
     "metadata": {},
     "output_type": "execute_result"
    }
   ],
   "source": [
    "\n",
    "ld_calc = tskit.LdCalculator(ts_chroms[0])\n",
    "r2_chrom1 = ld_calc.r2_matrix()\n",
    "r2_chrom1 = np.matrix.flatten(r2_chrom1)\n",
    "ld_calc = tskit.LdCalculator(ts_chroms[1])\n",
    "r2_chrom2 = ld_calc.r2_matrix()\n",
    "r2_chrom2 = np.matrix.flatten(r2_chrom2)\n",
    "ld_calc = tskit.LdCalculator(ts_chroms[2])\n",
    "r2_chrom3 = ld_calc.r2_matrix()\n",
    "r2_chrom3 = np.matrix.flatten(r2_chrom3)\n",
    "r2 = np.concatenate((r2_chrom1,r2_chrom2,r2_chrom3))\n",
    "r2_quant = np.quantile(r2, [0.1,0.3,0.5,0.7,0.9])\n",
    "r2_quant"
   ]
  },
  {
   "cell_type": "code",
   "execution_count": 50,
   "metadata": {},
   "outputs": [
    {
     "data": {
      "text/plain": [
       "[1,\n",
       " 10000,\n",
       " 1.650492657229618,\n",
       " 1,\n",
       " 1196,\n",
       " 0.0003986666666666667,\n",
       " 7.610374269005781e-05,\n",
       " 0.013157894736842105,\n",
       " 0.02631578947368421,\n",
       " 0.06578947368421052,\n",
       " 0.17105263157894737,\n",
       " 0.39473684210526316,\n",
       " -0.21649663539611996,\n",
       " 0.40273061993611586,\n",
       " 0.0003603603603603603,\n",
       " 0.001501501501501501,\n",
       " 0.005432098765432099,\n",
       " 0.016470588235294122,\n",
       " 0.07861380242332622,\n",
       " 0.038414260220286864,\n",
       " 0.013895439108151025]"
      ]
     },
     "execution_count": 50,
     "metadata": {},
     "output_type": "execute_result"
    }
   ],
   "source": [
    "summary_statistics.append(r2_quant[0])\n",
    "summary_statistics.append(r2_quant[1])\n",
    "summary_statistics.append(r2_quant[2])\n",
    "summary_statistics.append(r2_quant[3])\n",
    "summary_statistics.append(r2_quant[4])\n",
    "summary_statistics.append(np.mean(r2))\n",
    "summary_statistics.append(np.var(r2))\n",
    "summary_statistics"
   ]
  },
  {
   "cell_type": "code",
   "execution_count": 51,
   "metadata": {},
   "outputs": [],
   "source": [
    "for x in range(3):\n",
    "    with open(\"output\"+str(x+1)+\".vcf\", \"w\") as vcf_file:\n",
    "        ts_chroms[x].write_vcf(vcf_file, contig_id=str(x+1))"
   ]
  },
  {
   "cell_type": "code",
   "execution_count": 52,
   "metadata": {},
   "outputs": [
    {
     "data": {
      "text/plain": [
       "'/Users/milesanderson/PhD/ILDsim/ILDsim'"
      ]
     },
     "execution_count": 52,
     "metadata": {},
     "output_type": "execute_result"
    }
   ],
   "source": [
    "import subprocess\n",
    "import os\n",
    "os.getcwd()"
   ]
  },
  {
   "cell_type": "code",
   "execution_count": null,
   "metadata": {},
   "outputs": [],
   "source": [
    "commands = [\"bcftools concatoutput1.vcf output2.vcf output3.vcf -o concat.vcf\"]\n",
    "\n",
    "subprocess.run([\"bcftools\", \"concat\", \"output1.vcf\", \"output2.vcf\", \"output3.vcf\", \"-o\", \"concat.vcf\"])"
   ]
  },
  {
   "cell_type": "code",
   "execution_count": 55,
   "metadata": {},
   "outputs": [],
   "source": [
    "import pandas as pd"
   ]
  },
  {
   "cell_type": "code",
   "execution_count": 75,
   "metadata": {},
   "outputs": [],
   "source": [
    "circos = pd.read_csv(\"glwd.circos\", sep= \"\\t\", header=None)\n",
    "ild_array = circos[circos.columns[6]].to_numpy()"
   ]
  },
  {
   "cell_type": "code",
   "execution_count": 85,
   "metadata": {},
   "outputs": [],
   "source": [
    "chrom1_S = ts_chroms[0].get_num_mutations()\n",
    "chrom2_S = ts_chroms[1].get_num_mutations()\n",
    "chrom3_S = ts_chroms[2].get_num_mutations()\n",
    "\n",
    "pairwise_num_ild_loci = (chrom1_S*chrom2_S)+(chrom1_S*chrom3_S)+(chrom2_S*chrom3_S)\n",
    "empty_array_size = pairwise_num_ild_loci - ild_array.shape[0]\n",
    "empty_array = np.zeros(empty_array_size)\n",
    "ild_all = np.concatenate((ild_array, empty_array))"
   ]
  },
  {
   "cell_type": "code",
   "execution_count": 95,
   "metadata": {},
   "outputs": [
    {
     "data": {
      "text/plain": [
       "array([0., 0., 0., 0., 0., 0., 0., 0.])"
      ]
     },
     "execution_count": 95,
     "metadata": {},
     "output_type": "execute_result"
    }
   ],
   "source": [
    "np.quantile(ild_all, [0.1,0.3,0.5,0.7,0.9,.95,.99,.9999])"
   ]
  },
  {
   "cell_type": "code",
   "execution_count": 93,
   "metadata": {},
   "outputs": [
    {
     "data": {
      "text/plain": [
       "0.11465800000000001"
      ]
     },
     "execution_count": 93,
     "metadata": {},
     "output_type": "execute_result"
    }
   ],
   "source": [
    "np.mean(ild_array)\n",
    "#np.var(ild_all)\n",
    "#scipy.stats.hmean(ild_array)"
   ]
  }
 ],
 "metadata": {
  "kernelspec": {
   "display_name": "msprime",
   "language": "python",
   "name": "python3"
  },
  "language_info": {
   "codemirror_mode": {
    "name": "ipython",
    "version": 3
   },
   "file_extension": ".py",
   "mimetype": "text/x-python",
   "name": "python",
   "nbconvert_exporter": "python",
   "pygments_lexer": "ipython3",
   "version": "3.12.2"
  }
 },
 "nbformat": 4,
 "nbformat_minor": 2
}
